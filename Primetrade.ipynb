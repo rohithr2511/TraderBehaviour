{
  "nbformat": 4,
  "nbformat_minor": 0,
  "metadata": {
    "colab": {
      "provenance": [],
      "authorship_tag": "ABX9TyN4wf/KajIzkcFSn8r4lfDl",
      "include_colab_link": true
    },
    "kernelspec": {
      "name": "python3",
      "display_name": "Python 3"
    },
    "language_info": {
      "name": "python"
    }
  },
  "cells": [
    {
      "cell_type": "markdown",
      "metadata": {
        "id": "view-in-github",
        "colab_type": "text"
      },
      "source": [
        "<a href=\"https://colab.research.google.com/github/rohithr2511/TraderBehaviour/blob/main/Primetrade.ipynb\" target=\"_parent\"><img src=\"https://colab.research.google.com/assets/colab-badge.svg\" alt=\"Open In Colab\"/></a>"
      ]
    },
    {
      "cell_type": "markdown",
      "source": [
        "**Necessary Libraries**"
      ],
      "metadata": {
        "id": "vb94pIxvT6nZ"
      }
    },
    {
      "cell_type": "code",
      "execution_count": 1,
      "metadata": {
        "id": "CkXEXmd2J9vX"
      },
      "outputs": [],
      "source": [
        "import pandas as pd\n",
        "import matplotlib.pyplot as plt\n",
        "import seaborn as sns\n",
        "from datetime import datetime"
      ]
    },
    {
      "cell_type": "code",
      "source": [
        "# Loading datasets\n",
        "trader_df = pd.read_csv(\"/content/historical_data.csv\")\n",
        "sentiment_df = pd.read_csv(\"/content/fear_greed_index.csv\")"
      ],
      "metadata": {
        "colab": {
          "base_uri": "https://localhost:8080/"
        },
        "id": "4_OjjzYRKOfF",
        "outputId": "05e41f47-befc-48a6-e625-d9f0353ce858"
      },
      "execution_count": 2,
      "outputs": [
        {
          "output_type": "stream",
          "name": "stderr",
          "text": [
            "/tmp/ipython-input-2-2739690978.py:2: DtypeWarning: Columns (12) have mixed types. Specify dtype option on import or set low_memory=False.\n",
            "  trader_df = pd.read_csv(\"/content/historical_data.csv\")\n"
          ]
        }
      ]
    },
    {
      "cell_type": "code",
      "source": [
        "# Displaying top 5 rows\n",
        "print(\"Trader data\\n\",trader_df.head())\n",
        "print(\"Sentiment data\\n\",sentiment_df.head())"
      ],
      "metadata": {
        "colab": {
          "base_uri": "https://localhost:8080/"
        },
        "id": "B1P-4w6tKXXz",
        "outputId": "afc1e810-0328-4a34-f90d-796e5b61bf14"
      },
      "execution_count": 3,
      "outputs": [
        {
          "output_type": "stream",
          "name": "stdout",
          "text": [
            "Trader data\n",
            "                                       Account  Coin  Execution Price  \\\n",
            "0  0xae5eacaf9c6b9111fd53034a602c192a04e082ed  @107           7.9769   \n",
            "1  0xae5eacaf9c6b9111fd53034a602c192a04e082ed  @107           7.9800   \n",
            "2  0xae5eacaf9c6b9111fd53034a602c192a04e082ed  @107           7.9855   \n",
            "3  0xae5eacaf9c6b9111fd53034a602c192a04e082ed  @107           7.9874   \n",
            "4  0xae5eacaf9c6b9111fd53034a602c192a04e082ed  @107           7.9894   \n",
            "\n",
            "   Size Tokens  Size USD Side     Timestamp IST  Start Position Direction  \\\n",
            "0       986.87   7872.16  BUY  02-12-2024 22:50        0.000000       Buy   \n",
            "1        16.00    127.68  BUY  02-12-2024 22:50      986.524596       Buy   \n",
            "2       144.09   1150.63  BUY  02-12-2024 22:50     1002.518996       Buy   \n",
            "3       142.98   1142.04  BUY  02-12-2024 22:50     1146.558564       Buy   \n",
            "4         8.73     69.75  BUY  02-12-2024 22:50     1289.488521       Buy   \n",
            "\n",
            "   Closed PnL                                   Transaction Hash  \\\n",
            "0         0.0  0xec09451986a1874e3a980418412fcd0201f500c95bac...   \n",
            "1         0.0  0xec09451986a1874e3a980418412fcd0201f500c95bac...   \n",
            "2         0.0  0xec09451986a1874e3a980418412fcd0201f500c95bac...   \n",
            "3         0.0  0xec09451986a1874e3a980418412fcd0201f500c95bac...   \n",
            "4         0.0  0xec09451986a1874e3a980418412fcd0201f500c95bac...   \n",
            "\n",
            "       Order ID Crossed       Fee      Trade ID     Timestamp  \n",
            "0  5.201771e+10    True  0.345404  8.950000e+14  1.730000e+12  \n",
            "1  5.201771e+10    True  0.005600  4.430000e+14  1.730000e+12  \n",
            "2  5.201771e+10    True  0.050431  6.600000e+14  1.730000e+12  \n",
            "3  5.201771e+10    True  0.050043  1.080000e+15  1.730000e+12  \n",
            "4  5.201771e+10    True  0.003055  1.050000e+15  1.730000e+12  \n",
            "Sentiment data\n",
            "     timestamp  value classification        date\n",
            "0  1517463000     30           Fear  2018-02-01\n",
            "1  1517549400     15   Extreme Fear  2018-02-02\n",
            "2  1517635800     40           Fear  2018-02-03\n",
            "3  1517722200     24   Extreme Fear  2018-02-04\n",
            "4  1517808600     11   Extreme Fear  2018-02-05\n"
          ]
        }
      ]
    },
    {
      "cell_type": "markdown",
      "source": [
        "**Data Cleaning**"
      ],
      "metadata": {
        "id": "28qR8GjRUMqn"
      }
    },
    {
      "cell_type": "code",
      "source": [
        "# Converting date columns from historial and fear_greed data\n",
        "trader_df['Timestamp IST'] = pd.to_datetime(trader_df['Timestamp IST'], errors='coerce')\n",
        "sentiment_df['date'] = pd.to_datetime(sentiment_df['date'], errors='coerce')"
      ],
      "metadata": {
        "id": "dWjMUubqKpzf"
      },
      "execution_count": 5,
      "outputs": []
    },
    {
      "cell_type": "code",
      "source": [
        "# Extracting date only from Timestamp IST for joining\n",
        "trader_df['trade_date'] = trader_df['Timestamp IST'].dt.date\n",
        "sentiment_df['date'] = sentiment_df['date'].dt.date"
      ],
      "metadata": {
        "id": "kpERLT4KQutH"
      },
      "execution_count": 6,
      "outputs": []
    },
    {
      "cell_type": "code",
      "source": [
        "trader_df['Timestamp IST'].head()"
      ],
      "metadata": {
        "colab": {
          "base_uri": "https://localhost:8080/",
          "height": 241
        },
        "id": "DbEjrAhaQzuA",
        "outputId": "903f2a8d-59dd-4d18-d4ab-1330b962fa14"
      },
      "execution_count": 8,
      "outputs": [
        {
          "output_type": "execute_result",
          "data": {
            "text/plain": [
              "0   2024-02-12 22:50:00\n",
              "1   2024-02-12 22:50:00\n",
              "2   2024-02-12 22:50:00\n",
              "3   2024-02-12 22:50:00\n",
              "4   2024-02-12 22:50:00\n",
              "Name: Timestamp IST, dtype: datetime64[ns]"
            ],
            "text/html": [
              "<div>\n",
              "<style scoped>\n",
              "    .dataframe tbody tr th:only-of-type {\n",
              "        vertical-align: middle;\n",
              "    }\n",
              "\n",
              "    .dataframe tbody tr th {\n",
              "        vertical-align: top;\n",
              "    }\n",
              "\n",
              "    .dataframe thead th {\n",
              "        text-align: right;\n",
              "    }\n",
              "</style>\n",
              "<table border=\"1\" class=\"dataframe\">\n",
              "  <thead>\n",
              "    <tr style=\"text-align: right;\">\n",
              "      <th></th>\n",
              "      <th>Timestamp IST</th>\n",
              "    </tr>\n",
              "  </thead>\n",
              "  <tbody>\n",
              "    <tr>\n",
              "      <th>0</th>\n",
              "      <td>2024-02-12 22:50:00</td>\n",
              "    </tr>\n",
              "    <tr>\n",
              "      <th>1</th>\n",
              "      <td>2024-02-12 22:50:00</td>\n",
              "    </tr>\n",
              "    <tr>\n",
              "      <th>2</th>\n",
              "      <td>2024-02-12 22:50:00</td>\n",
              "    </tr>\n",
              "    <tr>\n",
              "      <th>3</th>\n",
              "      <td>2024-02-12 22:50:00</td>\n",
              "    </tr>\n",
              "    <tr>\n",
              "      <th>4</th>\n",
              "      <td>2024-02-12 22:50:00</td>\n",
              "    </tr>\n",
              "  </tbody>\n",
              "</table>\n",
              "</div><br><label><b>dtype:</b> datetime64[ns]</label>"
            ]
          },
          "metadata": {},
          "execution_count": 8
        }
      ]
    },
    {
      "cell_type": "code",
      "source": [
        "sentiment_df['date']"
      ],
      "metadata": {
        "colab": {
          "base_uri": "https://localhost:8080/",
          "height": 458
        },
        "id": "no6Vy6adQ9H8",
        "outputId": "7fece6d6-b878-414b-ca08-e76ee38ab1e4"
      },
      "execution_count": 9,
      "outputs": [
        {
          "output_type": "execute_result",
          "data": {
            "text/plain": [
              "0       2018-02-01\n",
              "1       2018-02-02\n",
              "2       2018-02-03\n",
              "3       2018-02-04\n",
              "4       2018-02-05\n",
              "           ...    \n",
              "2639    2025-04-28\n",
              "2640    2025-04-29\n",
              "2641    2025-04-30\n",
              "2642    2025-05-01\n",
              "2643    2025-05-02\n",
              "Name: date, Length: 2644, dtype: object"
            ],
            "text/html": [
              "<div>\n",
              "<style scoped>\n",
              "    .dataframe tbody tr th:only-of-type {\n",
              "        vertical-align: middle;\n",
              "    }\n",
              "\n",
              "    .dataframe tbody tr th {\n",
              "        vertical-align: top;\n",
              "    }\n",
              "\n",
              "    .dataframe thead th {\n",
              "        text-align: right;\n",
              "    }\n",
              "</style>\n",
              "<table border=\"1\" class=\"dataframe\">\n",
              "  <thead>\n",
              "    <tr style=\"text-align: right;\">\n",
              "      <th></th>\n",
              "      <th>date</th>\n",
              "    </tr>\n",
              "  </thead>\n",
              "  <tbody>\n",
              "    <tr>\n",
              "      <th>0</th>\n",
              "      <td>2018-02-01</td>\n",
              "    </tr>\n",
              "    <tr>\n",
              "      <th>1</th>\n",
              "      <td>2018-02-02</td>\n",
              "    </tr>\n",
              "    <tr>\n",
              "      <th>2</th>\n",
              "      <td>2018-02-03</td>\n",
              "    </tr>\n",
              "    <tr>\n",
              "      <th>3</th>\n",
              "      <td>2018-02-04</td>\n",
              "    </tr>\n",
              "    <tr>\n",
              "      <th>4</th>\n",
              "      <td>2018-02-05</td>\n",
              "    </tr>\n",
              "    <tr>\n",
              "      <th>...</th>\n",
              "      <td>...</td>\n",
              "    </tr>\n",
              "    <tr>\n",
              "      <th>2639</th>\n",
              "      <td>2025-04-28</td>\n",
              "    </tr>\n",
              "    <tr>\n",
              "      <th>2640</th>\n",
              "      <td>2025-04-29</td>\n",
              "    </tr>\n",
              "    <tr>\n",
              "      <th>2641</th>\n",
              "      <td>2025-04-30</td>\n",
              "    </tr>\n",
              "    <tr>\n",
              "      <th>2642</th>\n",
              "      <td>2025-05-01</td>\n",
              "    </tr>\n",
              "    <tr>\n",
              "      <th>2643</th>\n",
              "      <td>2025-05-02</td>\n",
              "    </tr>\n",
              "  </tbody>\n",
              "</table>\n",
              "<p>2644 rows × 1 columns</p>\n",
              "</div><br><label><b>dtype:</b> object</label>"
            ]
          },
          "metadata": {},
          "execution_count": 9
        }
      ]
    },
    {
      "cell_type": "code",
      "source": [
        "# Merging on date column\n",
        "merged_df = trader_df.merge(sentiment_df[['date', 'classification']],\n",
        "                            left_on='trade_date', right_on='date', how='left')"
      ],
      "metadata": {
        "id": "5raowwJxRCaI"
      },
      "execution_count": 10,
      "outputs": []
    },
    {
      "cell_type": "code",
      "source": [
        "# Droping invalid / missing values\n",
        "merged_df.dropna(subset=['classification', 'Closed PnL'], inplace=True)\n",
        "merged_df['Closed PnL'] = pd.to_numeric(merged_df['Closed PnL'], errors='coerce')"
      ],
      "metadata": {
        "id": "JcSZHMS2RGyp"
      },
      "execution_count": 22,
      "outputs": []
    },
    {
      "cell_type": "code",
      "source": [
        "merged_df.head()"
      ],
      "metadata": {
        "colab": {
          "base_uri": "https://localhost:8080/",
          "height": 446
        },
        "id": "79ZYQyIxUnbn",
        "outputId": "d902e27e-b079-4707-caee-09a5723f008f"
      },
      "execution_count": 28,
      "outputs": [
        {
          "output_type": "execute_result",
          "data": {
            "text/plain": [
              "                                      Account  Coin  Execution Price  \\\n",
              "0  0xae5eacaf9c6b9111fd53034a602c192a04e082ed  @107           7.9769   \n",
              "1  0xae5eacaf9c6b9111fd53034a602c192a04e082ed  @107           7.9800   \n",
              "2  0xae5eacaf9c6b9111fd53034a602c192a04e082ed  @107           7.9855   \n",
              "3  0xae5eacaf9c6b9111fd53034a602c192a04e082ed  @107           7.9874   \n",
              "4  0xae5eacaf9c6b9111fd53034a602c192a04e082ed  @107           7.9894   \n",
              "\n",
              "   Size Tokens  Size USD Side       Timestamp IST  Start Position Direction  \\\n",
              "0       986.87   7872.16  BUY 2024-02-12 22:50:00        0.000000       Buy   \n",
              "1        16.00    127.68  BUY 2024-02-12 22:50:00      986.524596       Buy   \n",
              "2       144.09   1150.63  BUY 2024-02-12 22:50:00     1002.518996       Buy   \n",
              "3       142.98   1142.04  BUY 2024-02-12 22:50:00     1146.558564       Buy   \n",
              "4         8.73     69.75  BUY 2024-02-12 22:50:00     1289.488521       Buy   \n",
              "\n",
              "   Closed PnL  ...      Order ID  Crossed       Fee      Trade ID  \\\n",
              "0         0.0  ...  5.201771e+10     True  0.345404  8.950000e+14   \n",
              "1         0.0  ...  5.201771e+10     True  0.005600  4.430000e+14   \n",
              "2         0.0  ...  5.201771e+10     True  0.050431  6.600000e+14   \n",
              "3         0.0  ...  5.201771e+10     True  0.050043  1.080000e+15   \n",
              "4         0.0  ...  5.201771e+10     True  0.003055  1.050000e+15   \n",
              "\n",
              "      Timestamp  trade_date        date classification is_win    win  \n",
              "0  1.730000e+12  2024-02-12  2024-02-12          Greed  False  False  \n",
              "1  1.730000e+12  2024-02-12  2024-02-12          Greed  False  False  \n",
              "2  1.730000e+12  2024-02-12  2024-02-12          Greed  False  False  \n",
              "3  1.730000e+12  2024-02-12  2024-02-12          Greed  False  False  \n",
              "4  1.730000e+12  2024-02-12  2024-02-12          Greed  False  False  \n",
              "\n",
              "[5 rows x 21 columns]"
            ],
            "text/html": [
              "\n",
              "  <div id=\"df-c659d63b-739e-422a-a2aa-26a536989397\" class=\"colab-df-container\">\n",
              "    <div>\n",
              "<style scoped>\n",
              "    .dataframe tbody tr th:only-of-type {\n",
              "        vertical-align: middle;\n",
              "    }\n",
              "\n",
              "    .dataframe tbody tr th {\n",
              "        vertical-align: top;\n",
              "    }\n",
              "\n",
              "    .dataframe thead th {\n",
              "        text-align: right;\n",
              "    }\n",
              "</style>\n",
              "<table border=\"1\" class=\"dataframe\">\n",
              "  <thead>\n",
              "    <tr style=\"text-align: right;\">\n",
              "      <th></th>\n",
              "      <th>Account</th>\n",
              "      <th>Coin</th>\n",
              "      <th>Execution Price</th>\n",
              "      <th>Size Tokens</th>\n",
              "      <th>Size USD</th>\n",
              "      <th>Side</th>\n",
              "      <th>Timestamp IST</th>\n",
              "      <th>Start Position</th>\n",
              "      <th>Direction</th>\n",
              "      <th>Closed PnL</th>\n",
              "      <th>...</th>\n",
              "      <th>Order ID</th>\n",
              "      <th>Crossed</th>\n",
              "      <th>Fee</th>\n",
              "      <th>Trade ID</th>\n",
              "      <th>Timestamp</th>\n",
              "      <th>trade_date</th>\n",
              "      <th>date</th>\n",
              "      <th>classification</th>\n",
              "      <th>is_win</th>\n",
              "      <th>win</th>\n",
              "    </tr>\n",
              "  </thead>\n",
              "  <tbody>\n",
              "    <tr>\n",
              "      <th>0</th>\n",
              "      <td>0xae5eacaf9c6b9111fd53034a602c192a04e082ed</td>\n",
              "      <td>@107</td>\n",
              "      <td>7.9769</td>\n",
              "      <td>986.87</td>\n",
              "      <td>7872.16</td>\n",
              "      <td>BUY</td>\n",
              "      <td>2024-02-12 22:50:00</td>\n",
              "      <td>0.000000</td>\n",
              "      <td>Buy</td>\n",
              "      <td>0.0</td>\n",
              "      <td>...</td>\n",
              "      <td>5.201771e+10</td>\n",
              "      <td>True</td>\n",
              "      <td>0.345404</td>\n",
              "      <td>8.950000e+14</td>\n",
              "      <td>1.730000e+12</td>\n",
              "      <td>2024-02-12</td>\n",
              "      <td>2024-02-12</td>\n",
              "      <td>Greed</td>\n",
              "      <td>False</td>\n",
              "      <td>False</td>\n",
              "    </tr>\n",
              "    <tr>\n",
              "      <th>1</th>\n",
              "      <td>0xae5eacaf9c6b9111fd53034a602c192a04e082ed</td>\n",
              "      <td>@107</td>\n",
              "      <td>7.9800</td>\n",
              "      <td>16.00</td>\n",
              "      <td>127.68</td>\n",
              "      <td>BUY</td>\n",
              "      <td>2024-02-12 22:50:00</td>\n",
              "      <td>986.524596</td>\n",
              "      <td>Buy</td>\n",
              "      <td>0.0</td>\n",
              "      <td>...</td>\n",
              "      <td>5.201771e+10</td>\n",
              "      <td>True</td>\n",
              "      <td>0.005600</td>\n",
              "      <td>4.430000e+14</td>\n",
              "      <td>1.730000e+12</td>\n",
              "      <td>2024-02-12</td>\n",
              "      <td>2024-02-12</td>\n",
              "      <td>Greed</td>\n",
              "      <td>False</td>\n",
              "      <td>False</td>\n",
              "    </tr>\n",
              "    <tr>\n",
              "      <th>2</th>\n",
              "      <td>0xae5eacaf9c6b9111fd53034a602c192a04e082ed</td>\n",
              "      <td>@107</td>\n",
              "      <td>7.9855</td>\n",
              "      <td>144.09</td>\n",
              "      <td>1150.63</td>\n",
              "      <td>BUY</td>\n",
              "      <td>2024-02-12 22:50:00</td>\n",
              "      <td>1002.518996</td>\n",
              "      <td>Buy</td>\n",
              "      <td>0.0</td>\n",
              "      <td>...</td>\n",
              "      <td>5.201771e+10</td>\n",
              "      <td>True</td>\n",
              "      <td>0.050431</td>\n",
              "      <td>6.600000e+14</td>\n",
              "      <td>1.730000e+12</td>\n",
              "      <td>2024-02-12</td>\n",
              "      <td>2024-02-12</td>\n",
              "      <td>Greed</td>\n",
              "      <td>False</td>\n",
              "      <td>False</td>\n",
              "    </tr>\n",
              "    <tr>\n",
              "      <th>3</th>\n",
              "      <td>0xae5eacaf9c6b9111fd53034a602c192a04e082ed</td>\n",
              "      <td>@107</td>\n",
              "      <td>7.9874</td>\n",
              "      <td>142.98</td>\n",
              "      <td>1142.04</td>\n",
              "      <td>BUY</td>\n",
              "      <td>2024-02-12 22:50:00</td>\n",
              "      <td>1146.558564</td>\n",
              "      <td>Buy</td>\n",
              "      <td>0.0</td>\n",
              "      <td>...</td>\n",
              "      <td>5.201771e+10</td>\n",
              "      <td>True</td>\n",
              "      <td>0.050043</td>\n",
              "      <td>1.080000e+15</td>\n",
              "      <td>1.730000e+12</td>\n",
              "      <td>2024-02-12</td>\n",
              "      <td>2024-02-12</td>\n",
              "      <td>Greed</td>\n",
              "      <td>False</td>\n",
              "      <td>False</td>\n",
              "    </tr>\n",
              "    <tr>\n",
              "      <th>4</th>\n",
              "      <td>0xae5eacaf9c6b9111fd53034a602c192a04e082ed</td>\n",
              "      <td>@107</td>\n",
              "      <td>7.9894</td>\n",
              "      <td>8.73</td>\n",
              "      <td>69.75</td>\n",
              "      <td>BUY</td>\n",
              "      <td>2024-02-12 22:50:00</td>\n",
              "      <td>1289.488521</td>\n",
              "      <td>Buy</td>\n",
              "      <td>0.0</td>\n",
              "      <td>...</td>\n",
              "      <td>5.201771e+10</td>\n",
              "      <td>True</td>\n",
              "      <td>0.003055</td>\n",
              "      <td>1.050000e+15</td>\n",
              "      <td>1.730000e+12</td>\n",
              "      <td>2024-02-12</td>\n",
              "      <td>2024-02-12</td>\n",
              "      <td>Greed</td>\n",
              "      <td>False</td>\n",
              "      <td>False</td>\n",
              "    </tr>\n",
              "  </tbody>\n",
              "</table>\n",
              "<p>5 rows × 21 columns</p>\n",
              "</div>\n",
              "    <div class=\"colab-df-buttons\">\n",
              "\n",
              "  <div class=\"colab-df-container\">\n",
              "    <button class=\"colab-df-convert\" onclick=\"convertToInteractive('df-c659d63b-739e-422a-a2aa-26a536989397')\"\n",
              "            title=\"Convert this dataframe to an interactive table.\"\n",
              "            style=\"display:none;\">\n",
              "\n",
              "  <svg xmlns=\"http://www.w3.org/2000/svg\" height=\"24px\" viewBox=\"0 -960 960 960\">\n",
              "    <path d=\"M120-120v-720h720v720H120Zm60-500h600v-160H180v160Zm220 220h160v-160H400v160Zm0 220h160v-160H400v160ZM180-400h160v-160H180v160Zm440 0h160v-160H620v160ZM180-180h160v-160H180v160Zm440 0h160v-160H620v160Z\"/>\n",
              "  </svg>\n",
              "    </button>\n",
              "\n",
              "  <style>\n",
              "    .colab-df-container {\n",
              "      display:flex;\n",
              "      gap: 12px;\n",
              "    }\n",
              "\n",
              "    .colab-df-convert {\n",
              "      background-color: #E8F0FE;\n",
              "      border: none;\n",
              "      border-radius: 50%;\n",
              "      cursor: pointer;\n",
              "      display: none;\n",
              "      fill: #1967D2;\n",
              "      height: 32px;\n",
              "      padding: 0 0 0 0;\n",
              "      width: 32px;\n",
              "    }\n",
              "\n",
              "    .colab-df-convert:hover {\n",
              "      background-color: #E2EBFA;\n",
              "      box-shadow: 0px 1px 2px rgba(60, 64, 67, 0.3), 0px 1px 3px 1px rgba(60, 64, 67, 0.15);\n",
              "      fill: #174EA6;\n",
              "    }\n",
              "\n",
              "    .colab-df-buttons div {\n",
              "      margin-bottom: 4px;\n",
              "    }\n",
              "\n",
              "    [theme=dark] .colab-df-convert {\n",
              "      background-color: #3B4455;\n",
              "      fill: #D2E3FC;\n",
              "    }\n",
              "\n",
              "    [theme=dark] .colab-df-convert:hover {\n",
              "      background-color: #434B5C;\n",
              "      box-shadow: 0px 1px 3px 1px rgba(0, 0, 0, 0.15);\n",
              "      filter: drop-shadow(0px 1px 2px rgba(0, 0, 0, 0.3));\n",
              "      fill: #FFFFFF;\n",
              "    }\n",
              "  </style>\n",
              "\n",
              "    <script>\n",
              "      const buttonEl =\n",
              "        document.querySelector('#df-c659d63b-739e-422a-a2aa-26a536989397 button.colab-df-convert');\n",
              "      buttonEl.style.display =\n",
              "        google.colab.kernel.accessAllowed ? 'block' : 'none';\n",
              "\n",
              "      async function convertToInteractive(key) {\n",
              "        const element = document.querySelector('#df-c659d63b-739e-422a-a2aa-26a536989397');\n",
              "        const dataTable =\n",
              "          await google.colab.kernel.invokeFunction('convertToInteractive',\n",
              "                                                    [key], {});\n",
              "        if (!dataTable) return;\n",
              "\n",
              "        const docLinkHtml = 'Like what you see? Visit the ' +\n",
              "          '<a target=\"_blank\" href=https://colab.research.google.com/notebooks/data_table.ipynb>data table notebook</a>'\n",
              "          + ' to learn more about interactive tables.';\n",
              "        element.innerHTML = '';\n",
              "        dataTable['output_type'] = 'display_data';\n",
              "        await google.colab.output.renderOutput(dataTable, element);\n",
              "        const docLink = document.createElement('div');\n",
              "        docLink.innerHTML = docLinkHtml;\n",
              "        element.appendChild(docLink);\n",
              "      }\n",
              "    </script>\n",
              "  </div>\n",
              "\n",
              "\n",
              "    <div id=\"df-758d407a-9ada-4189-952e-566e09f09be7\">\n",
              "      <button class=\"colab-df-quickchart\" onclick=\"quickchart('df-758d407a-9ada-4189-952e-566e09f09be7')\"\n",
              "                title=\"Suggest charts\"\n",
              "                style=\"display:none;\">\n",
              "\n",
              "<svg xmlns=\"http://www.w3.org/2000/svg\" height=\"24px\"viewBox=\"0 0 24 24\"\n",
              "     width=\"24px\">\n",
              "    <g>\n",
              "        <path d=\"M19 3H5c-1.1 0-2 .9-2 2v14c0 1.1.9 2 2 2h14c1.1 0 2-.9 2-2V5c0-1.1-.9-2-2-2zM9 17H7v-7h2v7zm4 0h-2V7h2v10zm4 0h-2v-4h2v4z\"/>\n",
              "    </g>\n",
              "</svg>\n",
              "      </button>\n",
              "\n",
              "<style>\n",
              "  .colab-df-quickchart {\n",
              "      --bg-color: #E8F0FE;\n",
              "      --fill-color: #1967D2;\n",
              "      --hover-bg-color: #E2EBFA;\n",
              "      --hover-fill-color: #174EA6;\n",
              "      --disabled-fill-color: #AAA;\n",
              "      --disabled-bg-color: #DDD;\n",
              "  }\n",
              "\n",
              "  [theme=dark] .colab-df-quickchart {\n",
              "      --bg-color: #3B4455;\n",
              "      --fill-color: #D2E3FC;\n",
              "      --hover-bg-color: #434B5C;\n",
              "      --hover-fill-color: #FFFFFF;\n",
              "      --disabled-bg-color: #3B4455;\n",
              "      --disabled-fill-color: #666;\n",
              "  }\n",
              "\n",
              "  .colab-df-quickchart {\n",
              "    background-color: var(--bg-color);\n",
              "    border: none;\n",
              "    border-radius: 50%;\n",
              "    cursor: pointer;\n",
              "    display: none;\n",
              "    fill: var(--fill-color);\n",
              "    height: 32px;\n",
              "    padding: 0;\n",
              "    width: 32px;\n",
              "  }\n",
              "\n",
              "  .colab-df-quickchart:hover {\n",
              "    background-color: var(--hover-bg-color);\n",
              "    box-shadow: 0 1px 2px rgba(60, 64, 67, 0.3), 0 1px 3px 1px rgba(60, 64, 67, 0.15);\n",
              "    fill: var(--button-hover-fill-color);\n",
              "  }\n",
              "\n",
              "  .colab-df-quickchart-complete:disabled,\n",
              "  .colab-df-quickchart-complete:disabled:hover {\n",
              "    background-color: var(--disabled-bg-color);\n",
              "    fill: var(--disabled-fill-color);\n",
              "    box-shadow: none;\n",
              "  }\n",
              "\n",
              "  .colab-df-spinner {\n",
              "    border: 2px solid var(--fill-color);\n",
              "    border-color: transparent;\n",
              "    border-bottom-color: var(--fill-color);\n",
              "    animation:\n",
              "      spin 1s steps(1) infinite;\n",
              "  }\n",
              "\n",
              "  @keyframes spin {\n",
              "    0% {\n",
              "      border-color: transparent;\n",
              "      border-bottom-color: var(--fill-color);\n",
              "      border-left-color: var(--fill-color);\n",
              "    }\n",
              "    20% {\n",
              "      border-color: transparent;\n",
              "      border-left-color: var(--fill-color);\n",
              "      border-top-color: var(--fill-color);\n",
              "    }\n",
              "    30% {\n",
              "      border-color: transparent;\n",
              "      border-left-color: var(--fill-color);\n",
              "      border-top-color: var(--fill-color);\n",
              "      border-right-color: var(--fill-color);\n",
              "    }\n",
              "    40% {\n",
              "      border-color: transparent;\n",
              "      border-right-color: var(--fill-color);\n",
              "      border-top-color: var(--fill-color);\n",
              "    }\n",
              "    60% {\n",
              "      border-color: transparent;\n",
              "      border-right-color: var(--fill-color);\n",
              "    }\n",
              "    80% {\n",
              "      border-color: transparent;\n",
              "      border-right-color: var(--fill-color);\n",
              "      border-bottom-color: var(--fill-color);\n",
              "    }\n",
              "    90% {\n",
              "      border-color: transparent;\n",
              "      border-bottom-color: var(--fill-color);\n",
              "    }\n",
              "  }\n",
              "</style>\n",
              "\n",
              "      <script>\n",
              "        async function quickchart(key) {\n",
              "          const quickchartButtonEl =\n",
              "            document.querySelector('#' + key + ' button');\n",
              "          quickchartButtonEl.disabled = true;  // To prevent multiple clicks.\n",
              "          quickchartButtonEl.classList.add('colab-df-spinner');\n",
              "          try {\n",
              "            const charts = await google.colab.kernel.invokeFunction(\n",
              "                'suggestCharts', [key], {});\n",
              "          } catch (error) {\n",
              "            console.error('Error during call to suggestCharts:', error);\n",
              "          }\n",
              "          quickchartButtonEl.classList.remove('colab-df-spinner');\n",
              "          quickchartButtonEl.classList.add('colab-df-quickchart-complete');\n",
              "        }\n",
              "        (() => {\n",
              "          let quickchartButtonEl =\n",
              "            document.querySelector('#df-758d407a-9ada-4189-952e-566e09f09be7 button');\n",
              "          quickchartButtonEl.style.display =\n",
              "            google.colab.kernel.accessAllowed ? 'block' : 'none';\n",
              "        })();\n",
              "      </script>\n",
              "    </div>\n",
              "\n",
              "    </div>\n",
              "  </div>\n"
            ],
            "application/vnd.google.colaboratory.intrinsic+json": {
              "type": "dataframe",
              "variable_name": "merged_df"
            }
          },
          "metadata": {},
          "execution_count": 28
        }
      ]
    },
    {
      "cell_type": "code",
      "source": [
        "# PnL Summary by Sentiment\n",
        "pnl_stats = merged_df.groupby('classification')['Closed PnL'].agg(['mean', 'median', 'sum', 'count']).reset_index()\n",
        "print(\"Performance by Market Sentiment:\\n\", pnl_stats)"
      ],
      "metadata": {
        "colab": {
          "base_uri": "https://localhost:8080/"
        },
        "id": "ZqJr205FRJ15",
        "outputId": "c6e8781e-45c9-42d0-c68b-f0b460eae7cb"
      },
      "execution_count": 23,
      "outputs": [
        {
          "output_type": "stream",
          "name": "stdout",
          "text": [
            "Performance by Market Sentiment:\n",
            "   classification        mean  median           sum  count\n",
            "0   Extreme Fear   20.400394     0.0  3.733272e+03    183\n",
            "1  Extreme Greed  456.166481     0.0  9.556688e+05   2095\n",
            "2           Fear  279.158464     0.0  1.473119e+06   5277\n",
            "3          Greed   83.911718     0.0  4.537946e+05   5408\n",
            "4        Neutral   37.430126     0.0  4.431727e+04   1184\n"
          ]
        }
      ]
    },
    {
      "cell_type": "markdown",
      "source": [
        "**PNL Sentiment Insights:**\n",
        "\n",
        "*   Extreme Greed sentiment yields the highest average PnL (₹456.17) and a total profit of over ₹955K across 2,095 trades — indicating highly favorable conditions.\n",
        "*   Fear sentiment follows closely with a high total PnL (₹1.47M) from 5,277 trades but a lower average (₹279.16), suggesting more frequent but smaller wins.\n",
        "*   Greed has a significantly lower average (₹83.91) despite the highest number of trades (5,408), indicating reduced profitability per trade.\n",
        "*   Extreme Fear and Neutral conditions show minimal profitability, with the lowest averages and sums, pointing to less favorable or uncertain trading environments.\n",
        "\n",
        "\n",
        "\n"
      ],
      "metadata": {
        "id": "Iow21LYwU4_S"
      }
    },
    {
      "cell_type": "markdown",
      "source": [
        "***Traders tend to earn higher average profits on days marked as Greed compared to Fear or Extreme Fear.***"
      ],
      "metadata": {
        "id": "2BYMBcgqX-1G"
      }
    },
    {
      "cell_type": "code",
      "source": [
        "plt.figure(figsize=(8, 5))\n",
        "sns.barplot(data=pnl_stats, x='classification', y='mean', hue='classification', palette='coolwarm', legend=False)\n",
        "plt.title(\"Average Trader PnL by Market Sentiment\")\n",
        "plt.ylabel(\"Mean Closed PnL\")\n",
        "plt.xlabel(\"Sentiment\")\n",
        "plt.show()"
      ],
      "metadata": {
        "colab": {
          "base_uri": "https://localhost:8080/",
          "height": 487
        },
        "id": "rmn5Q5GFRSI7",
        "outputId": "2b4fa8a1-f2d4-4863-bdf0-c6cd55634acc"
      },
      "execution_count": 24,
      "outputs": [
        {
          "output_type": "display_data",
          "data": {
            "text/plain": [
              "<Figure size 800x500 with 1 Axes>"
            ],
            "image/png": "[encoded data removed]"
          },
          "metadata": {}
        }
      ]
    },
    {
      "cell_type": "markdown",
      "source": [
        "**Average Trader PnL by Market Sentiment Insights**\n",
        "\n",
        "*   Extreme Greed sentiment results in the highest average trader profit (~₹456) — indicating optimal trading conditions.\n",
        "*   Fear days also yield relatively high profits (~₹279), suggesting opportunities despite negative sentiment.\n",
        "\n"
      ],
      "metadata": {
        "id": "vg6wcQXrVSyr"
      }
    },
    {
      "cell_type": "code",
      "source": [
        "# Wining Rate\n",
        "merged_df['win'] = merged_df['Closed PnL'] > 0\n",
        "win_rate = merged_df.groupby('classification')['win'].mean().reset_index()\n",
        "win_rate['Win Rate (%)'] = (win_rate['win'] * 100).round(2)"
      ],
      "metadata": {
        "id": "e_PDyPXsRgnG"
      },
      "execution_count": 25,
      "outputs": []
    },
    {
      "cell_type": "code",
      "source": [
        "win_rate.head()"
      ],
      "metadata": {
        "colab": {
          "base_uri": "https://localhost:8080/",
          "height": 206
        },
        "id": "g2WV-P5yVpL9",
        "outputId": "e41a3b15-49a1-482e-a3c1-4d731a5bd707"
      },
      "execution_count": 29,
      "outputs": [
        {
          "output_type": "execute_result",
          "data": {
            "text/plain": [
              "  classification       win  Win Rate (%)\n",
              "0   Extreme Fear  0.240437         24.04\n",
              "1  Extreme Greed  0.457757         45.78\n",
              "2           Fear  0.449687         44.97\n",
              "3          Greed  0.423447         42.34\n",
              "4        Neutral  0.478885         47.89"
            ],
            "text/html": [
              "\n",
              "  <div id=\"df-81637afd-2803-43d1-b2b5-12bb895780ca\" class=\"colab-df-container\">\n",
              "    <div>\n",
              "<style scoped>\n",
              "    .dataframe tbody tr th:only-of-type {\n",
              "        vertical-align: middle;\n",
              "    }\n",
              "\n",
              "    .dataframe tbody tr th {\n",
              "        vertical-align: top;\n",
              "    }\n",
              "\n",
              "    .dataframe thead th {\n",
              "        text-align: right;\n",
              "    }\n",
              "</style>\n",
              "<table border=\"1\" class=\"dataframe\">\n",
              "  <thead>\n",
              "    <tr style=\"text-align: right;\">\n",
              "      <th></th>\n",
              "      <th>classification</th>\n",
              "      <th>win</th>\n",
              "      <th>Win Rate (%)</th>\n",
              "    </tr>\n",
              "  </thead>\n",
              "  <tbody>\n",
              "    <tr>\n",
              "      <th>0</th>\n",
              "      <td>Extreme Fear</td>\n",
              "      <td>0.240437</td>\n",
              "      <td>24.04</td>\n",
              "    </tr>\n",
              "    <tr>\n",
              "      <th>1</th>\n",
              "      <td>Extreme Greed</td>\n",
              "      <td>0.457757</td>\n",
              "      <td>45.78</td>\n",
              "    </tr>\n",
              "    <tr>\n",
              "      <th>2</th>\n",
              "      <td>Fear</td>\n",
              "      <td>0.449687</td>\n",
              "      <td>44.97</td>\n",
              "    </tr>\n",
              "    <tr>\n",
              "      <th>3</th>\n",
              "      <td>Greed</td>\n",
              "      <td>0.423447</td>\n",
              "      <td>42.34</td>\n",
              "    </tr>\n",
              "    <tr>\n",
              "      <th>4</th>\n",
              "      <td>Neutral</td>\n",
              "      <td>0.478885</td>\n",
              "      <td>47.89</td>\n",
              "    </tr>\n",
              "  </tbody>\n",
              "</table>\n",
              "</div>\n",
              "    <div class=\"colab-df-buttons\">\n",
              "\n",
              "  <div class=\"colab-df-container\">\n",
              "    <button class=\"colab-df-convert\" onclick=\"convertToInteractive('df-81637afd-2803-43d1-b2b5-12bb895780ca')\"\n",
              "            title=\"Convert this dataframe to an interactive table.\"\n",
              "            style=\"display:none;\">\n",
              "\n",
              "  <svg xmlns=\"http://www.w3.org/2000/svg\" height=\"24px\" viewBox=\"0 -960 960 960\">\n",
              "    <path d=\"M120-120v-720h720v720H120Zm60-500h600v-160H180v160Zm220 220h160v-160H400v160Zm0 220h160v-160H400v160ZM180-400h160v-160H180v160Zm440 0h160v-160H620v160ZM180-180h160v-160H180v160Zm440 0h160v-160H620v160Z\"/>\n",
              "  </svg>\n",
              "    </button>\n",
              "\n",
              "  <style>\n",
              "    .colab-df-container {\n",
              "      display:flex;\n",
              "      gap: 12px;\n",
              "    }\n",
              "\n",
              "    .colab-df-convert {\n",
              "      background-color: #E8F0FE;\n",
              "      border: none;\n",
              "      border-radius: 50%;\n",
              "      cursor: pointer;\n",
              "      display: none;\n",
              "      fill: #1967D2;\n",
              "      height: 32px;\n",
              "      padding: 0 0 0 0;\n",
              "      width: 32px;\n",
              "    }\n",
              "\n",
              "    .colab-df-convert:hover {\n",
              "      background-color: #E2EBFA;\n",
              "      box-shadow: 0px 1px 2px rgba(60, 64, 67, 0.3), 0px 1px 3px 1px rgba(60, 64, 67, 0.15);\n",
              "      fill: #174EA6;\n",
              "    }\n",
              "\n",
              "    .colab-df-buttons div {\n",
              "      margin-bottom: 4px;\n",
              "    }\n",
              "\n",
              "    [theme=dark] .colab-df-convert {\n",
              "      background-color: #3B4455;\n",
              "      fill: #D2E3FC;\n",
              "    }\n",
              "\n",
              "    [theme=dark] .colab-df-convert:hover {\n",
              "      background-color: #434B5C;\n",
              "      box-shadow: 0px 1px 3px 1px rgba(0, 0, 0, 0.15);\n",
              "      filter: drop-shadow(0px 1px 2px rgba(0, 0, 0, 0.3));\n",
              "      fill: #FFFFFF;\n",
              "    }\n",
              "  </style>\n",
              "\n",
              "    <script>\n",
              "      const buttonEl =\n",
              "        document.querySelector('#df-81637afd-2803-43d1-b2b5-12bb895780ca button.colab-df-convert');\n",
              "      buttonEl.style.display =\n",
              "        google.colab.kernel.accessAllowed ? 'block' : 'none';\n",
              "\n",
              "      async function convertToInteractive(key) {\n",
              "        const element = document.querySelector('#df-81637afd-2803-43d1-b2b5-12bb895780ca');\n",
              "        const dataTable =\n",
              "          await google.colab.kernel.invokeFunction('convertToInteractive',\n",
              "                                                    [key], {});\n",
              "        if (!dataTable) return;\n",
              "\n",
              "        const docLinkHtml = 'Like what you see? Visit the ' +\n",
              "          '<a target=\"_blank\" href=https://colab.research.google.com/notebooks/data_table.ipynb>data table notebook</a>'\n",
              "          + ' to learn more about interactive tables.';\n",
              "        element.innerHTML = '';\n",
              "        dataTable['output_type'] = 'display_data';\n",
              "        await google.colab.output.renderOutput(dataTable, element);\n",
              "        const docLink = document.createElement('div');\n",
              "        docLink.innerHTML = docLinkHtml;\n",
              "        element.appendChild(docLink);\n",
              "      }\n",
              "    </script>\n",
              "  </div>\n",
              "\n",
              "\n",
              "    <div id=\"df-44c36ef5-6853-464c-a3ba-8e4288ed39ae\">\n",
              "      <button class=\"colab-df-quickchart\" onclick=\"quickchart('df-44c36ef5-6853-464c-a3ba-8e4288ed39ae')\"\n",
              "                title=\"Suggest charts\"\n",
              "                style=\"display:none;\">\n",
              "\n",
              "<svg xmlns=\"http://www.w3.org/2000/svg\" height=\"24px\"viewBox=\"0 0 24 24\"\n",
              "     width=\"24px\">\n",
              "    <g>\n",
              "        <path d=\"M19 3H5c-1.1 0-2 .9-2 2v14c0 1.1.9 2 2 2h14c1.1 0 2-.9 2-2V5c0-1.1-.9-2-2-2zM9 17H7v-7h2v7zm4 0h-2V7h2v10zm4 0h-2v-4h2v4z\"/>\n",
              "    </g>\n",
              "</svg>\n",
              "      </button>\n",
              "\n",
              "<style>\n",
              "  .colab-df-quickchart {\n",
              "      --bg-color: #E8F0FE;\n",
              "      --fill-color: #1967D2;\n",
              "      --hover-bg-color: #E2EBFA;\n",
              "      --hover-fill-color: #174EA6;\n",
              "      --disabled-fill-color: #AAA;\n",
              "      --disabled-bg-color: #DDD;\n",
              "  }\n",
              "\n",
              "  [theme=dark] .colab-df-quickchart {\n",
              "      --bg-color: #3B4455;\n",
              "      --fill-color: #D2E3FC;\n",
              "      --hover-bg-color: #434B5C;\n",
              "      --hover-fill-color: #FFFFFF;\n",
              "      --disabled-bg-color: #3B4455;\n",
              "      --disabled-fill-color: #666;\n",
              "  }\n",
              "\n",
              "  .colab-df-quickchart {\n",
              "    background-color: var(--bg-color);\n",
              "    border: none;\n",
              "    border-radius: 50%;\n",
              "    cursor: pointer;\n",
              "    display: none;\n",
              "    fill: var(--fill-color);\n",
              "    height: 32px;\n",
              "    padding: 0;\n",
              "    width: 32px;\n",
              "  }\n",
              "\n",
              "  .colab-df-quickchart:hover {\n",
              "    background-color: var(--hover-bg-color);\n",
              "    box-shadow: 0 1px 2px rgba(60, 64, 67, 0.3), 0 1px 3px 1px rgba(60, 64, 67, 0.15);\n",
              "    fill: var(--button-hover-fill-color);\n",
              "  }\n",
              "\n",
              "  .colab-df-quickchart-complete:disabled,\n",
              "  .colab-df-quickchart-complete:disabled:hover {\n",
              "    background-color: var(--disabled-bg-color);\n",
              "    fill: var(--disabled-fill-color);\n",
              "    box-shadow: none;\n",
              "  }\n",
              "\n",
              "  .colab-df-spinner {\n",
              "    border: 2px solid var(--fill-color);\n",
              "    border-color: transparent;\n",
              "    border-bottom-color: var(--fill-color);\n",
              "    animation:\n",
              "      spin 1s steps(1) infinite;\n",
              "  }\n",
              "\n",
              "  @keyframes spin {\n",
              "    0% {\n",
              "      border-color: transparent;\n",
              "      border-bottom-color: var(--fill-color);\n",
              "      border-left-color: var(--fill-color);\n",
              "    }\n",
              "    20% {\n",
              "      border-color: transparent;\n",
              "      border-left-color: var(--fill-color);\n",
              "      border-top-color: var(--fill-color);\n",
              "    }\n",
              "    30% {\n",
              "      border-color: transparent;\n",
              "      border-left-color: var(--fill-color);\n",
              "      border-top-color: var(--fill-color);\n",
              "      border-right-color: var(--fill-color);\n",
              "    }\n",
              "    40% {\n",
              "      border-color: transparent;\n",
              "      border-right-color: var(--fill-color);\n",
              "      border-top-color: var(--fill-color);\n",
              "    }\n",
              "    60% {\n",
              "      border-color: transparent;\n",
              "      border-right-color: var(--fill-color);\n",
              "    }\n",
              "    80% {\n",
              "      border-color: transparent;\n",
              "      border-right-color: var(--fill-color);\n",
              "      border-bottom-color: var(--fill-color);\n",
              "    }\n",
              "    90% {\n",
              "      border-color: transparent;\n",
              "      border-bottom-color: var(--fill-color);\n",
              "    }\n",
              "  }\n",
              "</style>\n",
              "\n",
              "      <script>\n",
              "        async function quickchart(key) {\n",
              "          const quickchartButtonEl =\n",
              "            document.querySelector('#' + key + ' button');\n",
              "          quickchartButtonEl.disabled = true;  // To prevent multiple clicks.\n",
              "          quickchartButtonEl.classList.add('colab-df-spinner');\n",
              "          try {\n",
              "            const charts = await google.colab.kernel.invokeFunction(\n",
              "                'suggestCharts', [key], {});\n",
              "          } catch (error) {\n",
              "            console.error('Error during call to suggestCharts:', error);\n",
              "          }\n",
              "          quickchartButtonEl.classList.remove('colab-df-spinner');\n",
              "          quickchartButtonEl.classList.add('colab-df-quickchart-complete');\n",
              "        }\n",
              "        (() => {\n",
              "          let quickchartButtonEl =\n",
              "            document.querySelector('#df-44c36ef5-6853-464c-a3ba-8e4288ed39ae button');\n",
              "          quickchartButtonEl.style.display =\n",
              "            google.colab.kernel.accessAllowed ? 'block' : 'none';\n",
              "        })();\n",
              "      </script>\n",
              "    </div>\n",
              "\n",
              "    </div>\n",
              "  </div>\n"
            ],
            "application/vnd.google.colaboratory.intrinsic+json": {
              "type": "dataframe",
              "variable_name": "win_rate",
              "summary": "{\n  \"name\": \"win_rate\",\n  \"rows\": 5,\n  \"fields\": [\n    {\n      \"column\": \"classification\",\n      \"properties\": {\n        \"dtype\": \"string\",\n        \"num_unique_values\": 5,\n        \"samples\": [\n          \"Extreme Greed\",\n          \"Neutral\",\n          \"Fear\"\n        ],\n        \"semantic_type\": \"\",\n        \"description\": \"\"\n      }\n    },\n    {\n      \"column\": \"win\",\n      \"properties\": {\n        \"dtype\": \"number\",\n        \"std\": 0.09686756146526017,\n        \"min\": 0.24043715846994534,\n        \"max\": 0.47888513513513514,\n        \"num_unique_values\": 5,\n        \"samples\": [\n          0.45775656324582337,\n          0.47888513513513514,\n          0.4496873223422399\n        ],\n        \"semantic_type\": \"\",\n        \"description\": \"\"\n      }\n    },\n    {\n      \"column\": \"Win Rate (%)\",\n      \"properties\": {\n        \"dtype\": \"number\",\n        \"std\": 9.689150117528369,\n        \"min\": 24.04,\n        \"max\": 47.89,\n        \"num_unique_values\": 5,\n        \"samples\": [\n          45.78,\n          47.89,\n          44.97\n        ],\n        \"semantic_type\": \"\",\n        \"description\": \"\"\n      }\n    }\n  ]\n}"
            }
          },
          "metadata": {},
          "execution_count": 29
        }
      ]
    },
    {
      "cell_type": "markdown",
      "source": [
        "**Win Rate Insights:**\n",
        "\n",
        "*   Neutral sentiment surprisingly yields the highest win rate (~48%), indicating a stable market may offer better predictability for profitable trades.\n",
        "*   Extreme Fear shows the lowest win rate (~24%), suggesting highly volatile or panic-driven environments are riskier and less favorable.\n",
        "\n",
        "*   Win rates during Extreme Greed, Fear, and Greed hover between (42–46%), showing a relatively balanced but riskier trading environment.\n",
        "\n",
        "\n",
        "\n",
        "\n"
      ],
      "metadata": {
        "id": "4CfXxnGoV0it"
      }
    },
    {
      "cell_type": "markdown",
      "source": [
        "***Win rates were higher during Greed periods, suggesting trader strategies are more successful in bullish or optimistic markets.***"
      ],
      "metadata": {
        "id": "YUy9lNzsYHWH"
      }
    },
    {
      "cell_type": "code",
      "source": [
        "# Top Performing Traders\n",
        "top_traders = (\n",
        "    merged_df.groupby(['classification', 'Account'])['Closed PnL']\n",
        "    .sum()\n",
        "    .reset_index()\n",
        "    .sort_values(['classification', 'Closed PnL'], ascending=[True, False])\n",
        ")\n",
        "top_3 = top_traders.groupby('classification').head(3)\n",
        "print(\"\\nTop 3 Accounts under each Sentiment:\\n\", top_3)"
      ],
      "metadata": {
        "colab": {
          "base_uri": "https://localhost:8080/"
        },
        "id": "Z4mwxm-FTJyL",
        "outputId": "57cd58af-6ed3-432e-8111-a0b37dbc6490"
      },
      "execution_count": 26,
      "outputs": [
        {
          "output_type": "stream",
          "name": "stdout",
          "text": [
            "\n",
            "Top 3 Accounts under each Sentiment:\n",
            "    classification                                     Account    Closed PnL\n",
            "0    Extreme Fear  0x4f93fead39b70a1824f981a54d4e55b278e9f760  3.084288e+03\n",
            "3    Extreme Fear  0xb1231a4a2dd02f2276fa3c5e2a2f3436e6bfed23  6.489844e+02\n",
            "1    Extreme Fear  0x513b8629fe877bb581bf244e326a047b249c4ff1  0.000000e+00\n",
            "13  Extreme Greed  0xb1231a4a2dd02f2276fa3c5e2a2f3436e6bfed23  9.978715e+05\n",
            "12  Extreme Greed  0xae5eacaf9c6b9111fd53034a602c192a04e082ed  2.092551e+04\n",
            "10  Extreme Greed  0x75f7eeb85dc639d5e99c78f95393aa9a5f1170d4  1.564175e+04\n",
            "14           Fear  0x083384f897ee0f19899168e3b1bec365f52a9012  1.010607e+06\n",
            "19           Fear  0x72c6a4624e1dffa724e6d00d64ceae698af892a0  1.972949e+05\n",
            "23           Fear  0xb1231a4a2dd02f2276fa3c5e2a2f3436e6bfed23  1.481471e+05\n",
            "34          Greed  0xb1231a4a2dd02f2276fa3c5e2a2f3436e6bfed23  3.327058e+05\n",
            "31          Greed  0x75f7eeb85dc639d5e99c78f95393aa9a5f1170d4  6.804519e+04\n",
            "29          Greed  0x513b8629fe877bb581bf244e326a047b249c4ff1  6.054430e+04\n",
            "39        Neutral  0x75f7eeb85dc639d5e99c78f95393aa9a5f1170d4  2.342559e+04\n",
            "37        Neutral  0x4f93fead39b70a1824f981a54d4e55b278e9f760  1.925249e+04\n",
            "35        Neutral  0x23e7a7f8d14b550961925fbfdaa92f5d195ba5bd  2.517787e+03\n"
          ]
        }
      ]
    },
    {
      "cell_type": "markdown",
      "source": [
        "**Top 3 Accounts Insights:**\n",
        "\n",
        "\n",
        "1.   Fear:\n",
        "\n",
        "*   Top performer earned over ₹1M, followed by others with strong 6-figure PnL.\n",
        "*   Indicates significant profit opportunities during fearful markets.\n",
        "\n",
        "2.   Extreme Good:\n",
        "\n",
        "*   One account (0xb123...ed23) appeared in multiple top lists, earning nearly ₹1L+\n",
        "*   Suggests consistent performance in bullish conditions.\n",
        "\n",
        "\n",
        "\n",
        "\n",
        "\n",
        "\n"
      ],
      "metadata": {
        "id": "yOPTIptMWdPz"
      }
    },
    {
      "cell_type": "markdown",
      "source": [
        "***Some accounts consistently perform well regardless of market sentiment, possibly due to robust trading strategies.***"
      ],
      "metadata": {
        "id": "4i53iCskYSW_"
      }
    },
    {
      "cell_type": "code",
      "source": [
        "# Visualization for Win Rate\n",
        "plt.figure(figsize=(8, 5))\n",
        "sns.barplot(data=win_rate, x='classification', y='Win Rate (%)', hue='classification', palette='viridis', legend=False)\n",
        "plt.title(\"Win Rate by Market Sentiment\")\n",
        "plt.xlabel(\"Sentiment\")\n",
        "plt.ylabel(\"Win Rate (%)\")\n",
        "plt.show()"
      ],
      "metadata": {
        "colab": {
          "base_uri": "https://localhost:8080/",
          "height": 487
        },
        "id": "kvlTZwVMRh1v",
        "outputId": "d709a78e-c86d-4514-9460-ece760ceaf31"
      },
      "execution_count": 27,
      "outputs": [
        {
          "output_type": "display_data",
          "data": {
            "text/plain": [
              "<Figure size 800x500 with 1 Axes>"
            ],
            "image/png": "[encoded data removed]"
          },
          "metadata": {}
        }
      ]
    },
    {
      "cell_type": "markdown",
      "source": [
        "**Insights for Win rate Visualization:**\n",
        "\n",
        "*   Neutral sentiment leads with the highest win rate (~48%), suggesting more predictable or stable trading conditions.\n",
        "*   Extreme Greed and Fear follow closely with win rates of approximately 46% and 45% respectively.\n",
        "*   Greed sentiment yields a slightly lower win rate (~42%).\n",
        "*   Extreme Fear shows the lowest win rate (~24%), confirming that highly pessimistic market phases reduce trader success rates significantly.\n",
        "\n",
        "\n",
        "\n"
      ],
      "metadata": {
        "id": "1-852TrQXRc0"
      }
    },
    {
      "cell_type": "markdown",
      "source": [
        "**Merged data saved to csv**"
      ],
      "metadata": {
        "id": "ko6oo_2SXpdj"
      }
    },
    {
      "cell_type": "code",
      "source": [
        "# Saving final merged data\n",
        "merged_df.to_csv(\"merged_sentiment_trades.csv\", index=False)"
      ],
      "metadata": {
        "id": "Mmtw3TVARolJ"
      },
      "execution_count": 20,
      "outputs": []
    },
    {
      "cell_type": "markdown",
      "source": [
        "**Final Insights:**\n",
        "\n",
        "\n",
        "*   Market sentiment significantly impacts trader outcomes.\n",
        "*   Traders tend to perform better during Greed, both in terms of average PnL and win rate.\n",
        "*   A few accounts consistently show high profits during Greed, suggesting strong strategy or risk-taking behavior.\n",
        "*   During Fear periods, most traders underperform or exit with smaller gains/losses.\n",
        "\n",
        "\n",
        "\n"
      ],
      "metadata": {
        "id": "LuM0d7S5Yvd_"
      }
    },
    {
      "cell_type": "markdown",
      "source": [
        "**Recommendation:**\n",
        "\n",
        "\n",
        "*   **Sentiment-Based Alerts:** Create real-time triggers when market sentiment shifts to Greed for traders to capitalize.\n",
        "*   **Performance Benchmarking:** Flag top-performing traders in Greed conditions to study strategies and replicate patterns.\n",
        "\n"
      ],
      "metadata": {
        "id": "Qonkm-7iZBBK"
      }
    }
  ]
}